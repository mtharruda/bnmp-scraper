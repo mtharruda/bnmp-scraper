{
 "cells": [
  {
   "cell_type": "markdown",
   "metadata": {},
   "source": [
    "# Código para raspagem de dados do Banco Nacional de Medidas Penais, CNJ\n",
    "O código vai raspar, de forma automática, informações que não são disponibilizadas pela planilha fornecida pelo Banco Nacional de Medidas Penas (BNMP), mantido pelo Conselho Nacional de Justiça. \n",
    "\n",
    "A ideia é ampliar as possibilidades de análise e traçar panoramas da situação de seguridade pública do país.\n",
    "\n",
    "## Preparando o ambiente\n",
    "Para a raspagem dos dados, utilizaremos as bibliotecas Selenium. Para a análise, utilizaremos o Pandas. \n",
    "Já para a representação dos dados utilizaremos o matplotlib e Seaborn. "
   ]
  },
  {
   "cell_type": "code",
   "execution_count": 1,
   "metadata": {},
   "outputs": [],
   "source": [
    "\n",
    "#Biblioteca para raspagem \n",
    "from selenium import webdriver\n",
    "from selenium.webdriver.common.keys import Keys\n",
    "from selenium.webdriver.common.by import By\n",
    "from selenium.webdriver.support import expected_conditions as EC\n",
    "from selenium.webdriver.support.ui import WebDriverWait\n",
    "\n",
    "#Bibliotecas para várias funções relacionadas à tempo\n",
    "import time\n",
    "from datetime import datetime\n",
    "\n",
    "#Bibliotecas para análise dos dados\n",
    "import pandas as pd \n",
    "import numpy as np \n",
    "import requests as requests\n",
    "import matplotlib.pyplot as plt \n",
    "import seaborn as sns\n"
   ]
  },
  {
   "cell_type": "markdown",
   "metadata": {},
   "source": [
    "# Inicialização do raspador"
   ]
  },
  {
   "cell_type": "code",
   "execution_count": 2,
   "metadata": {},
   "outputs": [
    {
     "data": {
      "text/plain": [
       "<selenium.webdriver.support.wait.WebDriverWait (session=\"5c31091dbe11408578535c9f8979142d\")>"
      ]
     },
     "execution_count": 2,
     "metadata": {},
     "output_type": "execute_result"
    }
   ],
   "source": [
    "driver = webdriver.Chrome()\n",
    "driver.get('https://portalbnmp.cnj.jus.br/#/captcha/%2Fpesquisa-peca')\n",
    "WebDriverWait(driver, 10)"
   ]
  },
  {
   "cell_type": "code",
   "execution_count": null,
   "metadata": {},
   "outputs": [],
   "source": [
    "#WebDriverWait(driver, 10).until(EC.frame_to_be_available_and_switch_to_it((By.XPATH,\"//iframe[@title='reCAPTCHA']\")))\n",
    "#WebDriverWait(driver, 10).until(EC.element_to_be_clickable((By.CSS_SELECTOR, \"div.recaptcha-checkbox-border\"))).click()"
   ]
  },
  {
   "cell_type": "code",
   "execution_count": 3,
   "metadata": {},
   "outputs": [],
   "source": [
    "driver.maximize_window() # For maximizing window\n",
    "driver.implicitly_wait(5) # gives an implicit wait for 20 seconds"
   ]
  },
  {
   "cell_type": "markdown",
   "metadata": {},
   "source": [
    "# Teste do primeiro item"
   ]
  },
  {
   "cell_type": "code",
   "execution_count": 4,
   "metadata": {},
   "outputs": [
    {
     "name": "stdout",
     "output_type": "stream",
     "text": [
      "ABRAÃO MENDES DE SOUSA\n",
      "Tipificações penais:\n",
      "10826, 16;\n",
      "Pena imposta: 3 ano(s) 6 mês(es) 0 dia(s). \n",
      " Regime: Semiaberto\n"
     ]
    }
   ],
   "source": [
    "searchbox_npeca = driver.find_element(By.XPATH, \"//input[@name='numeroProcesso']\").send_keys('0002717-37.2024.8.26.0521.01.0001-13')\n",
    "driver.implicitly_wait(5)\n",
    "search_button = driver.find_element(By. XPATH, '/html/body/app-root/div/div/div[2]/div/app-pesquisa-peca/div[1]/p-fieldset/fieldset/div/div/form/div[18]/button[2]/span[1]')\n",
    "search_button.click()\n",
    "\n",
    "driver.implicitly_wait(5)\n",
    "\n",
    "    \n",
    "processo_click = driver.find_element(By. XPATH, '/html/body/app-root/div/div/div[2]/div/app-pesquisa-peca/div[1]/p-datatable/div/div[1]/table/tbody/tr/td[1]/span[2]/span').click()\n",
    "\n",
    "driver.implicitly_wait(10)\n",
    "\n",
    "print (driver.find_element(By.XPATH, '/html/body/app-root/div/div/div[2]/div/app-resumo-peca/div/p-panel/div/div[2]/div[1]/div[4]/table/tbody/tr/td').text)\n",
    "print (driver.find_element(By.XPATH, '/html/body/app-root/div/div/div[2]/div/app-resumo-peca/div/p-panel/div/div[2]/div[1]/p-datatable/div/div[1]/table/thead/tr/th/span').text)\n",
    "print (driver.find_element(By.XPATH, '/html/body/app-root/div/div/div[2]/div/app-resumo-peca/div/p-panel/div/div[2]/div[1]/p-datatable/div/div[1]/table/tbody/tr/td/span').text)\n",
    "print (\"Pena imposta:\", driver.find_element(By.XPATH, '//*[@id=\"ui-panel-0-content\"]/div[1]/p[18]/span').text,\n",
    "       '\\n', \"Regime:\", driver.find_element(By.XPATH, '/html/body/app-root/div/div/div[2]/div/app-resumo-peca/div/p-panel/div/div[2]/div[1]/p[19]/span').text)"
   ]
  },
  {
   "cell_type": "markdown",
   "metadata": {},
   "source": [
    "# Rodagem Automatizada"
   ]
  },
  {
   "cell_type": "code",
   "execution_count": 5,
   "metadata": {},
   "outputs": [
    {
     "name": "stderr",
     "output_type": "stream",
     "text": [
      "<>:1: SyntaxWarning: invalid escape sequence '\\D'\n",
      "<>:1: SyntaxWarning: invalid escape sequence '\\D'\n",
      "C:\\Users\\matheus.arruda\\AppData\\Local\\Temp\\ipykernel_15220\\2562798416.py:1: SyntaxWarning: invalid escape sequence '\\D'\n",
      "  mandados_sorocaba = pd.read_csv('C:\\Downloads\\matheus.arruda\\Downloads\\PROJETOS\\DADOS\\mandados_sor_10.csv', sep= ',')\n"
     ]
    },
    {
     "data": {
      "text/html": [
       "<div>\n",
       "<style scoped>\n",
       "    .dataframe tbody tr th:only-of-type {\n",
       "        vertical-align: middle;\n",
       "    }\n",
       "\n",
       "    .dataframe tbody tr th {\n",
       "        vertical-align: top;\n",
       "    }\n",
       "\n",
       "    .dataframe thead th {\n",
       "        text-align: right;\n",
       "    }\n",
       "</style>\n",
       "<table border=\"1\" class=\"dataframe\">\n",
       "  <thead>\n",
       "    <tr style=\"text-align: right;\">\n",
       "      <th></th>\n",
       "      <th>Número</th>\n",
       "      <th>Nome</th>\n",
       "      <th>Alcunha</th>\n",
       "      <th>Nome da Mãe</th>\n",
       "      <th>Nome do Pai</th>\n",
       "      <th>Data de Nascimento</th>\n",
       "      <th>Situação</th>\n",
       "      <th>Data</th>\n",
       "      <th>Órgão Expedidor</th>\n",
       "      <th>Peça</th>\n",
       "      <th>AbertoHá</th>\n",
       "    </tr>\n",
       "  </thead>\n",
       "  <tbody>\n",
       "    <tr>\n",
       "      <th>0</th>\n",
       "      <td>7001840-61.2003.8.26.0602.01.0003-23</td>\n",
       "      <td>ALEXANDRE ALVES FERREIRA</td>\n",
       "      <td>XANDE</td>\n",
       "      <td>IZABEL APARECIDA PINHAN FERREIRA</td>\n",
       "      <td>JOAO ALVES FERREIRA FILHO</td>\n",
       "      <td>05/06/1978</td>\n",
       "      <td>Pendente de Cumprimento</td>\n",
       "      <td>17/04/2013</td>\n",
       "      <td>DEPARTAMENTO DE EXECUÇÕES CRIMINAIS - 10 RAJ D...</td>\n",
       "      <td>Mandado de Prisão</td>\n",
       "      <td>11</td>\n",
       "    </tr>\n",
       "    <tr>\n",
       "      <th>1</th>\n",
       "      <td>7000988-78.2006.8.26.0037.01.0003-07</td>\n",
       "      <td>WLADEMIR SCHWINDEN</td>\n",
       "      <td>NAO INFORMADO</td>\n",
       "      <td>TANIA MARA SCHWINDEN</td>\n",
       "      <td>EVALDIR SCHWINDEN</td>\n",
       "      <td>09/01/1978</td>\n",
       "      <td>Pendente de Cumprimento</td>\n",
       "      <td>20/01/2011</td>\n",
       "      <td>JURI/EXECUCOES DE SOROCABA</td>\n",
       "      <td>Mandado de Prisão</td>\n",
       "      <td>13</td>\n",
       "    </tr>\n",
       "  </tbody>\n",
       "</table>\n",
       "</div>"
      ],
      "text/plain": [
       "                                 Número                      Nome  \\\n",
       "0  7001840-61.2003.8.26.0602.01.0003-23  ALEXANDRE ALVES FERREIRA   \n",
       "1  7000988-78.2006.8.26.0037.01.0003-07        WLADEMIR SCHWINDEN   \n",
       "\n",
       "         Alcunha                       Nome da Mãe                Nome do Pai  \\\n",
       "0          XANDE  IZABEL APARECIDA PINHAN FERREIRA  JOAO ALVES FERREIRA FILHO   \n",
       "1  NAO INFORMADO              TANIA MARA SCHWINDEN          EVALDIR SCHWINDEN   \n",
       "\n",
       "  Data de Nascimento                 Situação        Data  \\\n",
       "0         05/06/1978  Pendente de Cumprimento  17/04/2013   \n",
       "1         09/01/1978  Pendente de Cumprimento  20/01/2011   \n",
       "\n",
       "                                     Órgão Expedidor               Peça  \\\n",
       "0  DEPARTAMENTO DE EXECUÇÕES CRIMINAIS - 10 RAJ D...  Mandado de Prisão   \n",
       "1                         JURI/EXECUCOES DE SOROCABA  Mandado de Prisão   \n",
       "\n",
       "   AbertoHá  \n",
       "0        11  \n",
       "1        13  "
      ]
     },
     "execution_count": 5,
     "metadata": {},
     "output_type": "execute_result"
    }
   ],
   "source": [
    "mandados_sorocaba = pd.read_csv('C:\\Downloads\\matheus.arruda\\Downloads\\PROJETOS\\DADOS\\mandados_sor_10.csv', sep= ',')\n",
    "mandados_sorocaba.head()"
   ]
  },
  {
   "cell_type": "code",
   "execution_count": 6,
   "metadata": {},
   "outputs": [],
   "source": [
    "#Vamos entrar no endereço novamente\n",
    "driver.get('https://portalbnmp.cnj.jus.br/#/captcha/%2Fpesquisa-peca')"
   ]
  },
  {
   "cell_type": "code",
   "execution_count": 7,
   "metadata": {},
   "outputs": [
    {
     "name": "stdout",
     "output_type": "stream",
     "text": [
      "ALEXANDRE ALVES FERREIRA 2848, 157, § 2º, II;\n",
      "WLADIMIR SCHIMINDEN 2848, 121, § 2º, IV;\n"
     ]
    }
   ],
   "source": [
    "dados = []\n",
    "bd_foragidos = pd.DataFrame()\n",
    "\n",
    "for index, row in mandados_sorocaba.iterrows():\n",
    "    processo = row['Número']\n",
    "        \n",
    "    #Primeiro, vamos passar nosso número de processo\n",
    "    driver.find_element(By.XPATH, \"/html/body/app-root/div/div/div[2]/div/app-pesquisa-peca/div[1]/p-fieldset/fieldset/div/div/form/div[14]/span/p-inputmask/input\").send_keys(f'{processo}')\n",
    "    \n",
    "    driver.implicitly_wait(5)\n",
    "    \n",
    "    #Então, vamos clicar em PESQUISAR\n",
    "    driver.find_element(By. XPATH, '/html/body/app-root/div/div/div[2]/div/app-pesquisa-peca/div[1]/p-fieldset/fieldset/div/div/form/div[18]/button[2]/span[1]').click()\n",
    "   \n",
    "    #driver.implicitly_wait(5)\n",
    "    \n",
    "    time.sleep(5)\n",
    "\n",
    "    #E, depois, abrir o link do processo\n",
    "    driver.find_element(By. XPATH, '/html/body/app-root/div/div/div[2]/div/app-pesquisa-peca/div[1]/p-datatable/div/div[1]/table/tbody/tr/td[1]/span[2]/span').click()\n",
    "    \n",
    "    driver.implicitly_wait(5)\n",
    "    \n",
    "    time.sleep(5)\n",
    "\n",
    "    nome = driver.find_element(By.XPATH, '/html/body/app-root/div/div/div[2]/div/app-resumo-peca/div/p-panel/div/div[2]/div[1]/div[4]/table/tbody/tr/td').text\n",
    "    crime = driver.find_element(By.XPATH, '/html/body/app-root/div/div/div[2]/div/app-resumo-peca/div/p-panel/div/div[2]/div[1]/p-datatable/div/div[1]/table/tbody/tr/td/span').text\n",
    "#pena = driver.find_element(By.XPATH, '/html/body/app-root/div/div/div[2]/div/app-resumo-peca/div/p-panel/div/div[2]/div[1]/p[19]/span').text\n",
    "\n",
    "    print(nome, crime)\n",
    "\n",
    "    dados.append({\n",
    "    \"Nome\": nome,\n",
    "    \"Crime(s)\": crime,\n",
    "    })\n",
    "    \n",
    "    time.sleep(5)\n",
    "    \n",
    "    driver.find_element(By.XPATH, '/html/body/app-root/div/div/div[2]/div/app-resumo-peca/div/p-panel/div/div[2]/div[2]/p-footer/div/button[3]').click()\n",
    "   \n",
    "    time.sleep(5)\n",
    "\n",
    "bd_foragidos = dados"
   ]
  },
  {
   "cell_type": "code",
   "execution_count": 8,
   "metadata": {},
   "outputs": [
    {
     "data": {
      "text/html": [
       "<div>\n",
       "<style scoped>\n",
       "    .dataframe tbody tr th:only-of-type {\n",
       "        vertical-align: middle;\n",
       "    }\n",
       "\n",
       "    .dataframe tbody tr th {\n",
       "        vertical-align: top;\n",
       "    }\n",
       "\n",
       "    .dataframe thead th {\n",
       "        text-align: right;\n",
       "    }\n",
       "</style>\n",
       "<table border=\"1\" class=\"dataframe\">\n",
       "  <thead>\n",
       "    <tr style=\"text-align: right;\">\n",
       "      <th></th>\n",
       "      <th>Nome</th>\n",
       "      <th>Crime(s)</th>\n",
       "    </tr>\n",
       "  </thead>\n",
       "  <tbody>\n",
       "    <tr>\n",
       "      <th>0</th>\n",
       "      <td>ALEXANDRE ALVES FERREIRA</td>\n",
       "      <td>2848, 157, § 2º, II;</td>\n",
       "    </tr>\n",
       "    <tr>\n",
       "      <th>1</th>\n",
       "      <td>WLADIMIR SCHIMINDEN</td>\n",
       "      <td>2848, 121, § 2º, IV;</td>\n",
       "    </tr>\n",
       "  </tbody>\n",
       "</table>\n",
       "</div>"
      ],
      "text/plain": [
       "                       Nome              Crime(s)\n",
       "0  ALEXANDRE ALVES FERREIRA  2848, 157, § 2º, II;\n",
       "1       WLADIMIR SCHIMINDEN  2848, 121, § 2º, IV;"
      ]
     },
     "execution_count": 8,
     "metadata": {},
     "output_type": "execute_result"
    }
   ],
   "source": [
    "bd_foragidos = pd.DataFrame(dados)\n",
    "bd_foragidos   "
   ]
  },
  {
   "cell_type": "code",
   "execution_count": 9,
   "metadata": {},
   "outputs": [],
   "source": [
    "driver.quit()"
   ]
  }
 ],
 "metadata": {
  "kernelspec": {
   "display_name": "base",
   "language": "python",
   "name": "python3"
  },
  "language_info": {
   "codemirror_mode": {
    "name": "ipython",
    "version": 3
   },
   "file_extension": ".py",
   "mimetype": "text/x-python",
   "name": "python",
   "nbconvert_exporter": "python",
   "pygments_lexer": "ipython3",
   "version": "3.12.7"
  }
 },
 "nbformat": 4,
 "nbformat_minor": 2
}
