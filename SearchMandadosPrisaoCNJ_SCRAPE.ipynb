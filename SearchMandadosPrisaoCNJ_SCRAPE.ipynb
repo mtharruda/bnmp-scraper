{
 "cells": [
  {
   "cell_type": "markdown",
   "metadata": {},
   "source": [
    "# Código para raspagem de dados do Banco Nacional de Medidas Penais, CNJ\n",
    "O código vai raspar, de forma automática, informações que não são disponibilizadas pela planilha fornecida pelo Banco Nacional de Medidas Penas (BNMP), mantido pelo Conselho Nacional de Justiça. \n",
    "\n",
    "A ideia é ampliar as possibilidades de análise e traçar panoramas da situação de seguridade pública do país.\n",
    "\n",
    "## Preparando o ambiente\n",
    "Para a raspagem dos dados, utilizaremos as bibliotecas Selenium. Para a análise, utilizaremos o Pandas. \n",
    "Já para a representação dos dados utilizaremos o matplotlib e Seaborn. "
   ]
  },
  {
   "cell_type": "code",
   "execution_count": 1,
   "metadata": {},
   "outputs": [],
   "source": [
    "\n",
    "#Biblioteca para raspagem \n",
    "from selenium import webdriver\n",
    "from selenium.webdriver.common.keys import Keys\n",
    "from selenium.webdriver.common.by import By\n",
    "from selenium.webdriver.support import expected_conditions as EC\n",
    "from selenium.webdriver.support.ui import WebDriverWait\n",
    "\n",
    "#Bibliotecas para várias funções relacionadas à tempo\n",
    "import time\n",
    "from datetime import datetime\n",
    "\n",
    "#Bibliotecas para análise dos dados\n",
    "import pandas as pd \n",
    "import numpy as np \n",
    "import requests as requests\n",
    "import matplotlib.pyplot as plt \n",
    "import seaborn as sns\n"
   ]
  },
  {
   "cell_type": "markdown",
   "metadata": {},
   "source": [
    "# Inicialização do raspador"
   ]
  },
  {
   "cell_type": "code",
   "execution_count": 2,
   "metadata": {},
   "outputs": [
    {
     "data": {
      "text/plain": [
       "<selenium.webdriver.support.wait.WebDriverWait (session=\"2d2241bd678a8b11e521dffa10b997f3\")>"
      ]
     },
     "execution_count": 2,
     "metadata": {},
     "output_type": "execute_result"
    }
   ],
   "source": [
    "driver = webdriver.Chrome()\n",
    "driver.get('https://portalbnmp.cnj.jus.br/#/captcha/%2Fpesquisa-peca')\n",
    "WebDriverWait(driver, 10)"
   ]
  },
  {
   "cell_type": "code",
   "execution_count": null,
   "metadata": {},
   "outputs": [],
   "source": [
    "#WebDriverWait(driver, 10).until(EC.frame_to_be_available_and_switch_to_it((By.XPATH,\"//iframe[@title='reCAPTCHA']\")))\n",
    "#WebDriverWait(driver, 10).until(EC.element_to_be_clickable((By.CSS_SELECTOR, \"div.recaptcha-checkbox-border\"))).click()"
   ]
  },
  {
   "cell_type": "code",
   "execution_count": 3,
   "metadata": {},
   "outputs": [],
   "source": [
    "driver.maximize_window() # For maximizing window\n",
    "driver.implicitly_wait(5) # gives an implicit wait for 20 seconds"
   ]
  },
  {
   "cell_type": "markdown",
   "metadata": {},
   "source": [
    "# Teste do primeiro item"
   ]
  },
  {
   "cell_type": "code",
   "execution_count": 6,
   "metadata": {},
   "outputs": [
    {
     "ename": "ElementClickInterceptedException",
     "evalue": "Message: element click intercepted: Element <span class=\"ui-button-icon-left ui-clickable fa fa-fw ui-icon-search\"></span> is not clickable at point (1397, 248). Other element would receive the click: <div class=\"block-ui-spinner\">...</div>\n  (Session info: chrome=131.0.6778.86)\nStacktrace:\n\tGetHandleVerifier [0x00007FF7731F6CF5+28821]\n\t(No symbol) [0x00007FF773163880]\n\t(No symbol) [0x00007FF77300578A]\n\t(No symbol) [0x00007FF773060E8E]\n\t(No symbol) [0x00007FF77305E92C]\n\t(No symbol) [0x00007FF77305BAF6]\n\t(No symbol) [0x00007FF77305AA51]\n\t(No symbol) [0x00007FF77304CBA0]\n\t(No symbol) [0x00007FF77307F2FA]\n\t(No symbol) [0x00007FF77304C3F6]\n\t(No symbol) [0x00007FF77307F510]\n\t(No symbol) [0x00007FF77309F412]\n\t(No symbol) [0x00007FF77307F0A3]\n\t(No symbol) [0x00007FF77304A778]\n\t(No symbol) [0x00007FF77304B8E1]\n\tGetHandleVerifier [0x00007FF77352FCED+3408013]\n\tGetHandleVerifier [0x00007FF77354745F+3504127]\n\tGetHandleVerifier [0x00007FF77353B63D+3455453]\n\tGetHandleVerifier [0x00007FF7732BBDFB+835995]\n\t(No symbol) [0x00007FF77316EB9F]\n\t(No symbol) [0x00007FF77316A854]\n\t(No symbol) [0x00007FF77316A9ED]\n\t(No symbol) [0x00007FF77315A1D9]\n\tBaseThreadInitThunk [0x00007FF92D457374+20]\n\tRtlUserThreadStart [0x00007FF92E83CC91+33]\n",
     "output_type": "error",
     "traceback": [
      "\u001b[1;31m---------------------------------------------------------------------------\u001b[0m",
      "\u001b[1;31mElementClickInterceptedException\u001b[0m          Traceback (most recent call last)",
      "Cell \u001b[1;32mIn[6], line 4\u001b[0m\n\u001b[0;32m      2\u001b[0m driver\u001b[38;5;241m.\u001b[39mimplicitly_wait(\u001b[38;5;241m5\u001b[39m)\n\u001b[0;32m      3\u001b[0m search_button \u001b[38;5;241m=\u001b[39m driver\u001b[38;5;241m.\u001b[39mfind_element(By\u001b[38;5;241m.\u001b[39m XPATH, \u001b[38;5;124m'\u001b[39m\u001b[38;5;124m/html/body/app-root/div/div/div[2]/div/app-pesquisa-peca/div[1]/p-fieldset/fieldset/div/div/form/div[18]/button[2]/span[1]\u001b[39m\u001b[38;5;124m'\u001b[39m)\n\u001b[1;32m----> 4\u001b[0m search_button\u001b[38;5;241m.\u001b[39mclick()\n\u001b[0;32m      6\u001b[0m driver\u001b[38;5;241m.\u001b[39mimplicitly_wait(\u001b[38;5;241m5\u001b[39m)\n\u001b[0;32m      9\u001b[0m processo_click \u001b[38;5;241m=\u001b[39m driver\u001b[38;5;241m.\u001b[39mfind_element(By\u001b[38;5;241m.\u001b[39m XPATH, \u001b[38;5;124m'\u001b[39m\u001b[38;5;124m/html/body/app-root/div/div/div[2]/div/app-pesquisa-peca/div[1]/p-datatable/div/div[1]/table/tbody/tr/td[1]/span[2]/span\u001b[39m\u001b[38;5;124m'\u001b[39m)\u001b[38;5;241m.\u001b[39mclick()\n",
      "File \u001b[1;32mc:\\Users\\matheus.arruda\\AppData\\Local\\anaconda3\\Lib\\site-packages\\selenium\\webdriver\\remote\\webelement.py:94\u001b[0m, in \u001b[0;36mWebElement.click\u001b[1;34m(self)\u001b[0m\n\u001b[0;32m     92\u001b[0m \u001b[38;5;28;01mdef\u001b[39;00m \u001b[38;5;21mclick\u001b[39m(\u001b[38;5;28mself\u001b[39m) \u001b[38;5;241m-\u001b[39m\u001b[38;5;241m>\u001b[39m \u001b[38;5;28;01mNone\u001b[39;00m:\n\u001b[0;32m     93\u001b[0m \u001b[38;5;250m    \u001b[39m\u001b[38;5;124;03m\"\"\"Clicks the element.\"\"\"\u001b[39;00m\n\u001b[1;32m---> 94\u001b[0m     \u001b[38;5;28mself\u001b[39m\u001b[38;5;241m.\u001b[39m_execute(Command\u001b[38;5;241m.\u001b[39mCLICK_ELEMENT)\n",
      "File \u001b[1;32mc:\\Users\\matheus.arruda\\AppData\\Local\\anaconda3\\Lib\\site-packages\\selenium\\webdriver\\remote\\webelement.py:395\u001b[0m, in \u001b[0;36mWebElement._execute\u001b[1;34m(self, command, params)\u001b[0m\n\u001b[0;32m    393\u001b[0m     params \u001b[38;5;241m=\u001b[39m {}\n\u001b[0;32m    394\u001b[0m params[\u001b[38;5;124m\"\u001b[39m\u001b[38;5;124mid\u001b[39m\u001b[38;5;124m\"\u001b[39m] \u001b[38;5;241m=\u001b[39m \u001b[38;5;28mself\u001b[39m\u001b[38;5;241m.\u001b[39m_id\n\u001b[1;32m--> 395\u001b[0m \u001b[38;5;28;01mreturn\u001b[39;00m \u001b[38;5;28mself\u001b[39m\u001b[38;5;241m.\u001b[39m_parent\u001b[38;5;241m.\u001b[39mexecute(command, params)\n",
      "File \u001b[1;32mc:\\Users\\matheus.arruda\\AppData\\Local\\anaconda3\\Lib\\site-packages\\selenium\\webdriver\\remote\\webdriver.py:384\u001b[0m, in \u001b[0;36mWebDriver.execute\u001b[1;34m(self, driver_command, params)\u001b[0m\n\u001b[0;32m    382\u001b[0m response \u001b[38;5;241m=\u001b[39m \u001b[38;5;28mself\u001b[39m\u001b[38;5;241m.\u001b[39mcommand_executor\u001b[38;5;241m.\u001b[39mexecute(driver_command, params)\n\u001b[0;32m    383\u001b[0m \u001b[38;5;28;01mif\u001b[39;00m response:\n\u001b[1;32m--> 384\u001b[0m     \u001b[38;5;28mself\u001b[39m\u001b[38;5;241m.\u001b[39merror_handler\u001b[38;5;241m.\u001b[39mcheck_response(response)\n\u001b[0;32m    385\u001b[0m     response[\u001b[38;5;124m\"\u001b[39m\u001b[38;5;124mvalue\u001b[39m\u001b[38;5;124m\"\u001b[39m] \u001b[38;5;241m=\u001b[39m \u001b[38;5;28mself\u001b[39m\u001b[38;5;241m.\u001b[39m_unwrap_value(response\u001b[38;5;241m.\u001b[39mget(\u001b[38;5;124m\"\u001b[39m\u001b[38;5;124mvalue\u001b[39m\u001b[38;5;124m\"\u001b[39m, \u001b[38;5;28;01mNone\u001b[39;00m))\n\u001b[0;32m    386\u001b[0m     \u001b[38;5;28;01mreturn\u001b[39;00m response\n",
      "File \u001b[1;32mc:\\Users\\matheus.arruda\\AppData\\Local\\anaconda3\\Lib\\site-packages\\selenium\\webdriver\\remote\\errorhandler.py:232\u001b[0m, in \u001b[0;36mErrorHandler.check_response\u001b[1;34m(self, response)\u001b[0m\n\u001b[0;32m    230\u001b[0m         alert_text \u001b[38;5;241m=\u001b[39m value[\u001b[38;5;124m\"\u001b[39m\u001b[38;5;124malert\u001b[39m\u001b[38;5;124m\"\u001b[39m]\u001b[38;5;241m.\u001b[39mget(\u001b[38;5;124m\"\u001b[39m\u001b[38;5;124mtext\u001b[39m\u001b[38;5;124m\"\u001b[39m)\n\u001b[0;32m    231\u001b[0m     \u001b[38;5;28;01mraise\u001b[39;00m exception_class(message, screen, stacktrace, alert_text)  \u001b[38;5;66;03m# type: ignore[call-arg]  # mypy is not smart enough here\u001b[39;00m\n\u001b[1;32m--> 232\u001b[0m \u001b[38;5;28;01mraise\u001b[39;00m exception_class(message, screen, stacktrace)\n",
      "\u001b[1;31mElementClickInterceptedException\u001b[0m: Message: element click intercepted: Element <span class=\"ui-button-icon-left ui-clickable fa fa-fw ui-icon-search\"></span> is not clickable at point (1397, 248). Other element would receive the click: <div class=\"block-ui-spinner\">...</div>\n  (Session info: chrome=131.0.6778.86)\nStacktrace:\n\tGetHandleVerifier [0x00007FF7731F6CF5+28821]\n\t(No symbol) [0x00007FF773163880]\n\t(No symbol) [0x00007FF77300578A]\n\t(No symbol) [0x00007FF773060E8E]\n\t(No symbol) [0x00007FF77305E92C]\n\t(No symbol) [0x00007FF77305BAF6]\n\t(No symbol) [0x00007FF77305AA51]\n\t(No symbol) [0x00007FF77304CBA0]\n\t(No symbol) [0x00007FF77307F2FA]\n\t(No symbol) [0x00007FF77304C3F6]\n\t(No symbol) [0x00007FF77307F510]\n\t(No symbol) [0x00007FF77309F412]\n\t(No symbol) [0x00007FF77307F0A3]\n\t(No symbol) [0x00007FF77304A778]\n\t(No symbol) [0x00007FF77304B8E1]\n\tGetHandleVerifier [0x00007FF77352FCED+3408013]\n\tGetHandleVerifier [0x00007FF77354745F+3504127]\n\tGetHandleVerifier [0x00007FF77353B63D+3455453]\n\tGetHandleVerifier [0x00007FF7732BBDFB+835995]\n\t(No symbol) [0x00007FF77316EB9F]\n\t(No symbol) [0x00007FF77316A854]\n\t(No symbol) [0x00007FF77316A9ED]\n\t(No symbol) [0x00007FF77315A1D9]\n\tBaseThreadInitThunk [0x00007FF92D457374+20]\n\tRtlUserThreadStart [0x00007FF92E83CC91+33]\n"
     ]
    }
   ],
   "source": [
    "searchbox_npeca = driver.find_element(By.XPATH, \"//input[@name='numeroProcesso']\").send_keys('0002717-37.2024.8.26.0521.01.0001-13')\n",
    "driver.implicitly_wait(5)\n",
    "search_button = driver.find_element(By. XPATH, '/html/body/app-root/div/div/div[2]/div/app-pesquisa-peca/div[1]/p-fieldset/fieldset/div/div/form/div[18]/button[2]/span[1]')\n",
    "search_button.click()\n",
    "\n",
    "driver.implicitly_wait(5)\n",
    "\n",
    "    \n",
    "processo_click = driver.find_element(By. XPATH, '/html/body/app-root/div/div/div[2]/div/app-pesquisa-peca/div[1]/p-datatable/div/div[1]/table/tbody/tr/td[1]/span[2]/span').click()\n",
    "\n",
    "driver.implicitly_wait(10)\n",
    "\n",
    "print (driver.find_element(By.XPATH, '/html/body/app-root/div/div/div[2]/div/app-resumo-peca/div/p-panel/div/div[2]/div[1]/div[4]/table/tbody/tr/td').text)\n",
    "print (driver.find_element(By.XPATH, '/html/body/app-root/div/div/div[2]/div/app-resumo-peca/div/p-panel/div/div[2]/div[1]/p-datatable/div/div[1]/table/thead/tr/th/span').text)\n",
    "print (driver.find_element(By.XPATH, '/html/body/app-root/div/div/div[2]/div/app-resumo-peca/div/p-panel/div/div[2]/div[1]/p-datatable/div/div[1]/table/tbody/tr/td/span').text)\n",
    "print (\"Pena imposta:\", driver.find_element(By.XPATH, '//*[@id=\"ui-panel-0-content\"]/div[1]/p[18]/span').text,\n",
    "       '\\n', \"Regime:\", driver.find_element(By.XPATH, '/html/body/app-root/div/div/div[2]/div/app-resumo-peca/div/p-panel/div/div[2]/div[1]/p[19]/span').text)"
   ]
  },
  {
   "cell_type": "markdown",
   "metadata": {},
   "source": [
    "# Rodagem Automatizada"
   ]
  },
  {
   "cell_type": "code",
   "execution_count": 16,
   "metadata": {},
   "outputs": [
    {
     "name": "stderr",
     "output_type": "stream",
     "text": [
      "<>:1: SyntaxWarning: invalid escape sequence '\\D'\n",
      "<>:1: SyntaxWarning: invalid escape sequence '\\D'\n",
      "C:\\Users\\matheus.arruda\\AppData\\Local\\Temp\\ipykernel_1560\\179188963.py:1: SyntaxWarning: invalid escape sequence '\\D'\n",
      "  mandados_sorocaba = pd.read_csv('C:\\Downloads\\matheus.arruda\\Downloads\\mandados_sor_10.csv', sep= ',')\n"
     ]
    },
    {
     "data": {
      "text/html": [
       "<div>\n",
       "<style scoped>\n",
       "    .dataframe tbody tr th:only-of-type {\n",
       "        vertical-align: middle;\n",
       "    }\n",
       "\n",
       "    .dataframe tbody tr th {\n",
       "        vertical-align: top;\n",
       "    }\n",
       "\n",
       "    .dataframe thead th {\n",
       "        text-align: right;\n",
       "    }\n",
       "</style>\n",
       "<table border=\"1\" class=\"dataframe\">\n",
       "  <thead>\n",
       "    <tr style=\"text-align: right;\">\n",
       "      <th></th>\n",
       "      <th>Número</th>\n",
       "      <th>Nome</th>\n",
       "      <th>Alcunha</th>\n",
       "      <th>Nome da Mãe</th>\n",
       "      <th>Nome do Pai</th>\n",
       "      <th>Data de Nascimento</th>\n",
       "      <th>Situação</th>\n",
       "      <th>Data</th>\n",
       "      <th>Órgão Expedidor</th>\n",
       "      <th>Peça</th>\n",
       "      <th>AbertoHá</th>\n",
       "    </tr>\n",
       "  </thead>\n",
       "  <tbody>\n",
       "    <tr>\n",
       "      <th>0</th>\n",
       "      <td>0006460-31.2009.8.26.0602.01.0001-16</td>\n",
       "      <td>FRANCISCO DAS CHAGAS DE SOUSA OLIVEIRA</td>\n",
       "      <td>Não informado</td>\n",
       "      <td>LUISA RODRIGUES DE SOUSA</td>\n",
       "      <td>CICERO PEDRO DE OLIVEIRA</td>\n",
       "      <td>19/04/1958</td>\n",
       "      <td>Pendente de Cumprimento</td>\n",
       "      <td>25/07/2013</td>\n",
       "      <td>01 CRIMINAL DE SOROCABA</td>\n",
       "      <td>Mandado de Prisão</td>\n",
       "      <td>11</td>\n",
       "    </tr>\n",
       "    <tr>\n",
       "      <th>1</th>\n",
       "      <td>0006341-06.2012.4.03.6110.01.0001-03</td>\n",
       "      <td>Cassiana Rodrigues Paes</td>\n",
       "      <td>Cacau</td>\n",
       "      <td>FRANCISCA DA CONCEICAO PAES</td>\n",
       "      <td>LINDOLFO RODRIGUES PAES</td>\n",
       "      <td>03/05/1980</td>\n",
       "      <td>Pendente de Cumprimento</td>\n",
       "      <td>08/11/2013</td>\n",
       "      <td>1ª VARA FEDERAL DE SOROCABA COM JUIZADO ESPECI...</td>\n",
       "      <td>Mandado de Prisão</td>\n",
       "      <td>11</td>\n",
       "    </tr>\n",
       "    <tr>\n",
       "      <th>2</th>\n",
       "      <td>0005341-35.2009.8.26.0602.01.0001-22</td>\n",
       "      <td>FRANCISCO DAS CHAGAS DE SOUSA OLIVEIRA</td>\n",
       "      <td>Não informado</td>\n",
       "      <td>LUISA RODRIGUES DE SOUSA</td>\n",
       "      <td>CICERO PEDRO DE OLIVEIRA</td>\n",
       "      <td>19/04/1958</td>\n",
       "      <td>Pendente de Cumprimento</td>\n",
       "      <td>24/06/2013</td>\n",
       "      <td>03 CRIMINAL DE SOROCABA</td>\n",
       "      <td>Mandado de Prisão</td>\n",
       "      <td>11</td>\n",
       "    </tr>\n",
       "    <tr>\n",
       "      <th>3</th>\n",
       "      <td>7001840-61.2003.8.26.0602.01.0003-23</td>\n",
       "      <td>ALEXANDRE ALVES FERREIRA</td>\n",
       "      <td>XANDE</td>\n",
       "      <td>IZABEL APARECIDA PINHAN FERREIRA</td>\n",
       "      <td>JOAO ALVES FERREIRA FILHO</td>\n",
       "      <td>05/06/1978</td>\n",
       "      <td>Pendente de Cumprimento</td>\n",
       "      <td>17/04/2013</td>\n",
       "      <td>DEPARTAMENTO DE EXECUÇÕES CRIMINAIS - 10 RAJ D...</td>\n",
       "      <td>Mandado de Prisão</td>\n",
       "      <td>11</td>\n",
       "    </tr>\n",
       "    <tr>\n",
       "      <th>4</th>\n",
       "      <td>7000988-78.2006.8.26.0037.01.0003-07</td>\n",
       "      <td>WLADEMIR SCHWINDEN</td>\n",
       "      <td>NAO INFORMADO</td>\n",
       "      <td>TANIA MARA SCHWINDEN</td>\n",
       "      <td>EVALDIR SCHWINDEN</td>\n",
       "      <td>09/01/1978</td>\n",
       "      <td>Pendente de Cumprimento</td>\n",
       "      <td>20/01/2011</td>\n",
       "      <td>JURI/EXECUCOES DE SOROCABA</td>\n",
       "      <td>Mandado de Prisão</td>\n",
       "      <td>13</td>\n",
       "    </tr>\n",
       "  </tbody>\n",
       "</table>\n",
       "</div>"
      ],
      "text/plain": [
       "                                 Número  \\\n",
       "0  0006460-31.2009.8.26.0602.01.0001-16   \n",
       "1  0006341-06.2012.4.03.6110.01.0001-03   \n",
       "2  0005341-35.2009.8.26.0602.01.0001-22   \n",
       "3  7001840-61.2003.8.26.0602.01.0003-23   \n",
       "4  7000988-78.2006.8.26.0037.01.0003-07   \n",
       "\n",
       "                                     Nome        Alcunha  \\\n",
       "0  FRANCISCO DAS CHAGAS DE SOUSA OLIVEIRA  Não informado   \n",
       "1                 Cassiana Rodrigues Paes          Cacau   \n",
       "2  FRANCISCO DAS CHAGAS DE SOUSA OLIVEIRA  Não informado   \n",
       "3                ALEXANDRE ALVES FERREIRA          XANDE   \n",
       "4                      WLADEMIR SCHWINDEN  NAO INFORMADO   \n",
       "\n",
       "                        Nome da Mãe                Nome do Pai  \\\n",
       "0          LUISA RODRIGUES DE SOUSA   CICERO PEDRO DE OLIVEIRA   \n",
       "1       FRANCISCA DA CONCEICAO PAES    LINDOLFO RODRIGUES PAES   \n",
       "2          LUISA RODRIGUES DE SOUSA   CICERO PEDRO DE OLIVEIRA   \n",
       "3  IZABEL APARECIDA PINHAN FERREIRA  JOAO ALVES FERREIRA FILHO   \n",
       "4              TANIA MARA SCHWINDEN          EVALDIR SCHWINDEN   \n",
       "\n",
       "  Data de Nascimento                 Situação        Data  \\\n",
       "0         19/04/1958  Pendente de Cumprimento  25/07/2013   \n",
       "1         03/05/1980  Pendente de Cumprimento  08/11/2013   \n",
       "2         19/04/1958  Pendente de Cumprimento  24/06/2013   \n",
       "3         05/06/1978  Pendente de Cumprimento  17/04/2013   \n",
       "4         09/01/1978  Pendente de Cumprimento  20/01/2011   \n",
       "\n",
       "                                     Órgão Expedidor               Peça  \\\n",
       "0                            01 CRIMINAL DE SOROCABA  Mandado de Prisão   \n",
       "1  1ª VARA FEDERAL DE SOROCABA COM JUIZADO ESPECI...  Mandado de Prisão   \n",
       "2                            03 CRIMINAL DE SOROCABA  Mandado de Prisão   \n",
       "3  DEPARTAMENTO DE EXECUÇÕES CRIMINAIS - 10 RAJ D...  Mandado de Prisão   \n",
       "4                         JURI/EXECUCOES DE SOROCABA  Mandado de Prisão   \n",
       "\n",
       "   AbertoHá  \n",
       "0        11  \n",
       "1        11  \n",
       "2        11  \n",
       "3        11  \n",
       "4        13  "
      ]
     },
     "execution_count": 16,
     "metadata": {},
     "output_type": "execute_result"
    }
   ],
   "source": [
    "mandados_sorocaba = pd.read_csv('C:\\Downloads\\matheus.arruda\\Downloads\\mandados_sor_10.csv', sep= ',')\n",
    "mandados_sorocaba.head()"
   ]
  },
  {
   "cell_type": "code",
   "execution_count": 17,
   "metadata": {},
   "outputs": [],
   "source": [
    "#Vamos entrar no endereço novamente\n",
    "driver.get('https://portalbnmp.cnj.jus.br/#/captcha/%2Fpesquisa-peca')"
   ]
  },
  {
   "cell_type": "code",
   "execution_count": null,
   "metadata": {},
   "outputs": [
    {
     "name": "stdout",
     "output_type": "stream",
     "text": [
      "FRANCISCO DAS CHAGAS DE SOUSA OLIVEIRA 2848, 217;\n",
      "Cassiana Rodrigues Paes 2848, 313A;\n",
      "FRANCISCO DAS CHAGAS DE SOUSA OLIVEIRA 2848, 217;\n",
      "ALEXANDRE ALVES FERREIRA 2848, 157, § 2º, II;\n",
      "WLADIMIR SCHIMINDEN 2848, 121, § 2º, IV;\n"
     ]
    }
   ],
   "source": [
    "dados = []\n",
    "bd_foragidos = pd.DataFrame()\n",
    "\n",
    "for index, row in mandados_sorocaba.iterrows():\n",
    "    processo = row['Número']\n",
    "        \n",
    "    #Primeiro, vamos passar nosso número de processo\n",
    "    driver.find_element(By.XPATH, \"/html/body/app-root/div/div/div[2]/div/app-pesquisa-peca/div[1]/p-fieldset/fieldset/div/div/form/div[14]/span/p-inputmask/input\").send_keys(f'{processo}')\n",
    "    \n",
    "    driver.implicitly_wait(10)\n",
    "    \n",
    "    #Então, vamos clicar em PESQUISAR\n",
    "    driver.find_element(By. XPATH, '/html/body/app-root/div/div/div[2]/div/app-pesquisa-peca/div[1]/p-fieldset/fieldset/div/div/form/div[18]/button[2]/span[1]').click()\n",
    "   \n",
    "    #driver.implicitly_wait(5)\n",
    "    \n",
    "    time.sleep(10)\n",
    "\n",
    "    #E, depois, abrir o link do processo\n",
    "    driver.find_element(By. XPATH, '/html/body/app-root/div/div/div[2]/div/app-pesquisa-peca/div[1]/p-datatable/div/div[1]/table/tbody/tr/td[1]/span[2]/span').click()\n",
    "    \n",
    "    driver.implicitly_wait(5)\n",
    "    \n",
    "    time.sleep(5)\n",
    "\n",
    "    nome = driver.find_element(By.XPATH, '/html/body/app-root/div/div/div[2]/div/app-resumo-peca/div/p-panel/div/div[2]/div[1]/div[4]/table/tbody/tr/td').text\n",
    "    crime = driver.find_element(By.XPATH, '/html/body/app-root/div/div/div[2]/div/app-resumo-peca/div/p-panel/div/div[2]/div[1]/p-datatable/div/div[1]/table/tbody/tr/td/span').text\n",
    "#pena = driver.find_element(By.XPATH, '/html/body/app-root/div/div/div[2]/div/app-resumo-peca/div/p-panel/div/div[2]/div[1]/p[19]/span').text\n",
    "\n",
    "    print(nome, crime)\n",
    "\n",
    "    dados.append({\n",
    "    \"Nome\": nome,\n",
    "    \"Crime(s)\": crime,\n",
    "    })\n",
    "    \n",
    "    time.sleep(5)\n",
    "    \n",
    "    driver.find_element(By.XPATH, '/html/body/app-root/div/div/div[2]/div/app-resumo-peca/div/p-panel/div/div[2]/div[2]/p-footer/div/button[3]').click()\n",
    "   \n",
    "    time.sleep(5)\n",
    "\n",
    "bd_foragidos = dados"
   ]
  },
  {
   "cell_type": "code",
   "execution_count": 21,
   "metadata": {},
   "outputs": [
    {
     "data": {
      "text/html": [
       "<div>\n",
       "<style scoped>\n",
       "    .dataframe tbody tr th:only-of-type {\n",
       "        vertical-align: middle;\n",
       "    }\n",
       "\n",
       "    .dataframe tbody tr th {\n",
       "        vertical-align: top;\n",
       "    }\n",
       "\n",
       "    .dataframe thead th {\n",
       "        text-align: right;\n",
       "    }\n",
       "</style>\n",
       "<table border=\"1\" class=\"dataframe\">\n",
       "  <thead>\n",
       "    <tr style=\"text-align: right;\">\n",
       "      <th></th>\n",
       "      <th>Nome</th>\n",
       "      <th>Crime(s)</th>\n",
       "    </tr>\n",
       "  </thead>\n",
       "  <tbody>\n",
       "    <tr>\n",
       "      <th>0</th>\n",
       "      <td>FRANCISCO DAS CHAGAS DE SOUSA OLIVEIRA</td>\n",
       "      <td>2848, 217;</td>\n",
       "    </tr>\n",
       "    <tr>\n",
       "      <th>1</th>\n",
       "      <td>Cassiana Rodrigues Paes</td>\n",
       "      <td>2848, 313A;</td>\n",
       "    </tr>\n",
       "    <tr>\n",
       "      <th>2</th>\n",
       "      <td>FRANCISCO DAS CHAGAS DE SOUSA OLIVEIRA</td>\n",
       "      <td>2848, 217;</td>\n",
       "    </tr>\n",
       "    <tr>\n",
       "      <th>3</th>\n",
       "      <td>ALEXANDRE ALVES FERREIRA</td>\n",
       "      <td>2848, 157, § 2º, II;</td>\n",
       "    </tr>\n",
       "    <tr>\n",
       "      <th>4</th>\n",
       "      <td>WLADIMIR SCHIMINDEN</td>\n",
       "      <td>2848, 121, § 2º, IV;</td>\n",
       "    </tr>\n",
       "  </tbody>\n",
       "</table>\n",
       "</div>"
      ],
      "text/plain": [
       "                                     Nome              Crime(s)\n",
       "0  FRANCISCO DAS CHAGAS DE SOUSA OLIVEIRA            2848, 217;\n",
       "1                 Cassiana Rodrigues Paes           2848, 313A;\n",
       "2  FRANCISCO DAS CHAGAS DE SOUSA OLIVEIRA            2848, 217;\n",
       "3                ALEXANDRE ALVES FERREIRA  2848, 157, § 2º, II;\n",
       "4                     WLADIMIR SCHIMINDEN  2848, 121, § 2º, IV;"
      ]
     },
     "execution_count": 21,
     "metadata": {},
     "output_type": "execute_result"
    }
   ],
   "source": [
    "bd_foragidos = pd.DataFrame(dados)\n",
    "bd_foragidos   "
   ]
  },
  {
   "cell_type": "code",
   "execution_count": 22,
   "metadata": {},
   "outputs": [],
   "source": [
    "driver.quit()\n"
   ]
  }
 ],
 "metadata": {
  "kernelspec": {
   "display_name": "base",
   "language": "python",
   "name": "python3"
  },
  "language_info": {
   "codemirror_mode": {
    "name": "ipython",
    "version": 3
   },
   "file_extension": ".py",
   "mimetype": "text/x-python",
   "name": "python",
   "nbconvert_exporter": "python",
   "pygments_lexer": "ipython3",
   "version": "3.12.7"
  }
 },
 "nbformat": 4,
 "nbformat_minor": 2
}
